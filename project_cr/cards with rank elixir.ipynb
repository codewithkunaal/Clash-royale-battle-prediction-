{
 "cells": [
  {
   "cell_type": "markdown",
   "id": "bf62ad94",
   "metadata": {},
   "source": [
    "c = {\"Earthquake\" :3+(5*16.66),\n",
    "\"Fireball\" : 4+(5*16.66),\n",
    "\"Poison\" : 5+(5*16.66),\n",
    "\"The Log\":2+(6*16.66),\n",
    "\"Tornado\":3+(6*16.66),\n",
    "\"Zap\":2+(5*16.66),\n",
    "\"Giant Snowball\":2+(4*16.66),\n",
    "\"Barbarian Barrel\":2+(5*16.66),\n",
    "\"Arrows\":3+(5*16.66),\n",
    "\"Royal Delivery\":3+(5*16.66),\n",
    "\"Rocket\":6+(5*16.66),\n",
    "\"Lightning\":6+(5*16.66),\n",
    "\"Freeze\":4+(5*16.66),\n",
    "\"Rage\":2+(4*16.66),\n",
    "\"Clone\":3(4*16.66),\n",
    "\"Mirror\":0+(1*16.66),\n",
    "\"Golden Knight\":4+(5*16.66),\n",
    "\"Archer Queen\":5+(6*16.66),\n",
    "\"Skeleton King\":5+(6*16.66),\n",
    "\"Balloon\":5+(5*16.66),\n",
    "\"Hog Rider\":4+(5*16.66),\n",
    "\"Royal Giant\":6+(5*16.66),\n",
    "\"Elixir Golem\":3+(2*16.66),\n",
    "\"Goblin Barrel\":3+(5*16.66),\n",
    "\"Ram Rider\":5+(5*16.66),\n",
    "\"Sparky\":6+(3*16.66),\n",
    "\"Magic Archer\":4+(6*16.66),\n",
    "\"Giant\":5+(4*16.66),\n",
    "\"Battle Ram\":4+(4*16.66),\n",
    "\"Royal Ghost\":3+(4*16.66),\n",
    "\"Ice Wizard\":3+(4*16.66),\n",
    "\"Mortar\":4+(4*16.66),\n",
    "\"Skeleton Barrel\":3+(4*16.66),\n",
    "\"X-Bow\":6+(5*16.66),\n",
    "\"Golem\":8+(4*16.66),\n",
    "\"Three Musketeers\":9+(3*16.66),\n",
    "\"Lava Hound\":7+(5*16.66),\n",
    "\"Electro Giant\":8+(4*16.66),\n",
    "\"Wall Breakers\":2+(5*16.66),\n",
    "\"Miner\":3+(5*16.66),\n",
    "\"Graveyard\":5+(6*16.66),\n",
    "\"Goblin Giant\":6+(3*16.66),\n",
    "\"Bats\":2+(5*16.66),\n",
    "\"Minion Horde\":5+(1*16.66),\n",
    "\"Baby Dragon\":4+(6*16.66),\n",
    "\n",
    "\"Skeleton Dragons\":4+(3*16.66),\n",
    "\"Minions\":3+(4*16.66),\n",
    "\n",
    "\"Inferno Dragon\":4+(5*16.66),\n",
    "\"Mega Minion\":3+(4*16.66),\n",
    "\"Electro Dragon\":5+(3*16.66),\n",
    "\"Flying Machine\":4+(5*16.66),\n",
    "\n",
    "\n",
    "\"Furnace\":4+(4*16.66),\n",
    "\n",
    "\"Inferno Tower\":4+(4*1(4*16.66),\n",
    "\n",
    "\"Tesla\":4+(5*16.66),\n",
    "\"Mortar\":4+(4*16.66),\n",
    "\n",
    "\"Goblin Hut\":5+(3*16.66),\n",
    "\"Elixir Collector\":6+(2*16.66),\n",
    "\"Tombstone\":3+(6*16.66),\n",
    "\"Barbarian Hut\":7+(1*16.66),\n",
    "\"Cannon\":3+(4*16.66),\n",
    "\"Bomb Tower\":4+(4*16.66),\n",
    "\"Goblin Cage\":4+(4*16.66),\n",
    "\"X-Bow\":6+(4*16.66),\n",
    "\"Witch\":5+(4*16.66),\n",
    "\"Executioner\":5+(4*16.66),\n",
    "\"Balloon\":5+(4*16.66),\n",
    "\"Fire Spirit\":1+(5*16.66),\n",
    "\"Bomber\":2+(5*16.66),\n",
    "\"Firecracker\":3+(5*16.66),\n",
    "\"Mega Knight\":7+(5*16.66),\n",
    "\"Skeleton Army\":3+(5*16.66),\n",
    "\"Electro Wizard\":4+(6*16.66),\n",
    "\"Wizard\":5+(4*16.66),\n",
    "\"Valkyrie\":4+(6*16.66),\n",
    "\"Prince\":5+(5*16.66),\n",
    "\"Mini P.E.K.K.A\":4+(4*16.66),\n",
    "\n",
    "\"Dark Prince\":5+(5*16.66),\n",
    "\"P.E.K.K.A\":7+(5*16.66),\n",
    "\"Lumberjack\":4+(5*16.66),\n",
    "\"Royal Hogs\":5+(5*16.66),\n",
    "\"Giant Skeleton\":6+(2*16.66),\n",
    "\"Barbarians\":5+(2*16.66),\n",
    "\"Goblin Gang\":3+(2*16.66),\n",
    "\"goblin drill\":3+(4*16.66),\n",
    "\"Royale Ghost\":3+(5*16.66),\n",
    "\"Bandit\":3+(5*16.66),\n",
    "\"Musketeer\":4+(6*16.66),\n",
    "\"Heal spirit\":1+(3*16.66),\n",
    "\"Elite Barbarians\":6+(4*16.66),\n",
    "\"Dart Goblin\":3+(5*16.66),\n",
    "\"Bowler\":5+(4*16.66),\n",
    "\"Knight\":3+(6*16.66),\n",
    "\"Princess\":3+(5*16.66),\n",
    "\"Spear Goblins\":2+(5*16.66),\n",
    "\"Ice Spirit\":1+(5*16.66),\n",
    "\"Rascals\":5+(4*16.66),\n",
    "\"Zappies\":4+(5*16.66),\n",
    "\"Guards\":3+(6*16.66),\n",
    "\"Night Witch\":4+(3*16.66),\n",
    "\"Hunter\":4+(5*16.66),\n",
    "\"Mother Witch\":4+(4*16.66),\n",
    "\"Fisherman\":3+(4*16.66),\n",
    "\"Electro Spirit\":1+(5*16.66),\n",
    "\"Royal Recruits\":7+(3*16.66),\n",
    "\"Ice Golem\":2+(5*16.66),\n",
    "\"Skeletons\":1+(5*16.66),\n",
    "\"Cannon Cart\":5+(5*16.66),\n",
    "\"Archers\":3+(4*16.66),\n",
    "\"Goblins\":2+(3*16.66),\n",
    "\"Battle Healer\":4+(1*16.66)}"
   ]
  },
  {
   "cell_type": "markdown",
   "id": "0c7bc9ac",
   "metadata": {},
   "source": [
    "ranking = 6 tiers\n",
    "s  = 6*16.66\n",
    "a = 5*16.66\n",
    "b = 4*16.66\n",
    "c = 3*16.66\n",
    "d = 2*16.66\n",
    "f  = 1*16.66\n",
    "rank  = elixir + (tier)16.66"
   ]
  },
  {
   "cell_type": "code",
   "execution_count": null,
   "id": "ef78c6a0",
   "metadata": {},
   "outputs": [],
   "source": []
  },
  {
   "cell_type": "code",
   "execution_count": null,
   "id": "620fabb1",
   "metadata": {},
   "outputs": [],
   "source": []
  },
  {
   "cell_type": "code",
   "execution_count": null,
   "id": "ab4066b0",
   "metadata": {},
   "outputs": [],
   "source": []
  },
  {
   "cell_type": "code",
   "execution_count": null,
   "id": "ff6b25ff",
   "metadata": {},
   "outputs": [],
   "source": []
  },
  {
   "cell_type": "code",
   "execution_count": null,
   "id": "6f8df088",
   "metadata": {},
   "outputs": [],
   "source": []
  },
  {
   "cell_type": "code",
   "execution_count": 1,
   "id": "167e8571",
   "metadata": {},
   "outputs": [],
   "source": [
    "cards_encoded = {'Earthquake': 86.3, 'Fireball': 87.3, 'Poison': 88.3, 'The Log': 101.96000000000001, 'Tornado': 102.96000000000001, 'Zap': 85.3, 'Giant Snowball': 68.64, 'Barbarian Barrel': 85.3, 'Arrows': 86.3, 'Royal Delivery': 86.3, 'Rocket': 89.3, 'Lightning': 89.3, 'Freeze': 87.3, 'Rage': 68.64, 'Clone': 69.64, 'Mirror': 16.66, 'Golden Knight': 87.3, 'Archer Queen': 104.96000000000001, 'Skeleton King': 104.96000000000001, 'Balloon': 71.64, 'Hog Rider': 87.3, 'Royal Giant': 89.3, 'Elixir Golem': 36.32, 'Goblin Barrel': 86.3, 'Ram Rider': 88.3, 'Sparky': 55.980000000000004, 'Magic Archer': 103.96000000000001, 'Giant': 71.64, 'Battle Ram': 70.64, 'Royal Ghost': 69.64, 'Ice Wizard': 69.64, 'Mortar': 70.64, 'Skeleton Barrel': 69.64, 'X-Bow': 72.64, 'Golem': 74.64, 'Three Musketeers': 58.980000000000004, 'Lava Hound': 90.3, 'Electro Giant': 74.64, 'Wall Breakers': 85.3, 'Miner': 86.3, \n",
    "'Graveyard': 104.96000000000001, 'Goblin Giant': 55.980000000000004, 'Bats': 85.3, 'Minion Horde': 21.66, 'Baby Dragon': 103.96000000000001, 'Skeleton Dragons': 53.980000000000004, 'Minions': 69.64, 'Inferno Dragon': 87.3, 'Mega Minion': 69.64, 'Electro Dragon': 54.980000000000004, 'Flying Machine': 87.3, 'Furnace': 70.64, 'Inferno Tower': 70.64, 'Tesla': 87.3, 'Goblin Hut': \n",
    "54.980000000000004, 'Elixir Collector': 39.32, 'Tombstone': 102.96000000000001, 'Barbarian Hut': 23.66, 'Cannon': 69.64, 'Bomb Tower': 70.64, 'Goblin Cage': 70.64, 'Witch': 71.64, 'Executioner': 71.64, 'Fire Spirit': 84.3, 'Bomber': 85.3, 'Firecracker': 86.3, 'Mega Knight': 90.3, 'Skeleton Army': 86.3, 'Electro Wizard': 103.96000000000001, 'Wizard': 71.64, 'Valkyrie': 103.96000000000001, 'Prince': 88.3, 'Mini P.E.K.K.A': 70.64, 'Dark Prince': 88.3, 'P.E.K.K.A': 90.3, 'Lumberjack': 87.3, 'Royal Hogs': 88.3, 'Giant Skeleton': 39.32, 'Barbarians': 38.32, 'Goblin Gang': 36.32, 'goblin drill': 69.64, 'Royale Ghost': 86.3, 'Bandit': 86.3, 'Musketeer': 103.96000000000001, 'Heal spirit': 50.980000000000004, 'Elite Barbarians': 72.64, 'Dart Goblin': 86.3, 'Bowler': 71.64, 'Knight': 102.96000000000001, 'Princess': 86.3, 'Spear Goblins': 85.3, 'Ice Spirit': 84.3, 'Rascals': 71.64, 'Zappies': 87.3, 'Guards': 102.96000000000001, 'Night Witch': 53.980000000000004, 'Hunter': 87.3, 'Mother Witch': 70.64, 'Fisherman': 69.64, 'Electro Spirit': 84.3, 'Royal Recruits': 56.980000000000004, 'Ice Golem': 85.3, 'Skeletons': 84.3, 'Cannon Cart': 88.3, 'Archers': 69.64, 'Goblins': 51.980000000000004, 'Battle Healer': 20.66}"
   ]
  },
  {
   "cell_type": "code",
   "execution_count": 3,
   "id": "29dcb08b",
   "metadata": {},
   "outputs": [],
   "source": [
    "# cards_encoded"
   ]
  },
  {
   "cell_type": "code",
   "execution_count": 4,
   "id": "e81a340b",
   "metadata": {},
   "outputs": [],
   "source": [
    "# for i in X.columns :\n",
    "#     X[i+\"_mapped\"] = X[i].map(d)"
   ]
  },
  {
   "cell_type": "code",
   "execution_count": null,
   "id": "93b8c16e",
   "metadata": {},
   "outputs": [],
   "source": []
  },
  {
   "cell_type": "code",
   "execution_count": 5,
   "id": "950bb953",
   "metadata": {},
   "outputs": [
    {
     "name": "stdout",
     "output_type": "stream",
     "text": [
      "                    0\n",
      "Earthquake      86.30\n",
      "Fireball        87.30\n",
      "Poison          88.30\n",
      "The Log        101.96\n",
      "Tornado        102.96\n",
      "...               ...\n",
      "Skeletons       84.30\n",
      "Cannon Cart     88.30\n",
      "Archers         69.64\n",
      "Goblins         51.98\n",
      "Battle Healer   20.66\n",
      "\n",
      "[107 rows x 1 columns]\n"
     ]
    },
    {
     "ename": "ModuleNotFoundError",
     "evalue": "No module named 'openpyxl'",
     "output_type": "error",
     "traceback": [
      "\u001b[1;31m---------------------------------------------------------------------------\u001b[0m",
      "\u001b[1;31mModuleNotFoundError\u001b[0m                       Traceback (most recent call last)",
      "\u001b[1;32m~\\AppData\\Local\\Temp/ipykernel_7244/1407387991.py\u001b[0m in \u001b[0;36m<module>\u001b[1;34m\u001b[0m\n\u001b[0;32m      9\u001b[0m \u001b[0mprint\u001b[0m \u001b[1;33m(\u001b[0m\u001b[0mdf\u001b[0m\u001b[1;33m)\u001b[0m\u001b[1;33m\u001b[0m\u001b[1;33m\u001b[0m\u001b[0m\n\u001b[0;32m     10\u001b[0m \u001b[1;33m\u001b[0m\u001b[0m\n\u001b[1;32m---> 11\u001b[1;33m \u001b[0mdf\u001b[0m\u001b[1;33m.\u001b[0m\u001b[0mto_excel\u001b[0m\u001b[1;33m(\u001b[0m\u001b[1;34m'EncodedRanks.xlsx'\u001b[0m\u001b[1;33m)\u001b[0m\u001b[1;33m\u001b[0m\u001b[1;33m\u001b[0m\u001b[0m\n\u001b[0m",
      "\u001b[1;32mc:\\users\\asus\\appdata\\local\\programs\\python\\python39\\lib\\site-packages\\pandas\\core\\generic.py\u001b[0m in \u001b[0;36mto_excel\u001b[1;34m(self, excel_writer, sheet_name, na_rep, float_format, columns, header, index, index_label, startrow, startcol, engine, merge_cells, encoding, inf_rep, verbose, freeze_panes, storage_options)\u001b[0m\n\u001b[0;32m   2282\u001b[0m             \u001b[0minf_rep\u001b[0m\u001b[1;33m=\u001b[0m\u001b[0minf_rep\u001b[0m\u001b[1;33m,\u001b[0m\u001b[1;33m\u001b[0m\u001b[1;33m\u001b[0m\u001b[0m\n\u001b[0;32m   2283\u001b[0m         )\n\u001b[1;32m-> 2284\u001b[1;33m         formatter.write(\n\u001b[0m\u001b[0;32m   2285\u001b[0m             \u001b[0mexcel_writer\u001b[0m\u001b[1;33m,\u001b[0m\u001b[1;33m\u001b[0m\u001b[1;33m\u001b[0m\u001b[0m\n\u001b[0;32m   2286\u001b[0m             \u001b[0msheet_name\u001b[0m\u001b[1;33m=\u001b[0m\u001b[0msheet_name\u001b[0m\u001b[1;33m,\u001b[0m\u001b[1;33m\u001b[0m\u001b[1;33m\u001b[0m\u001b[0m\n",
      "\u001b[1;32mc:\\users\\asus\\appdata\\local\\programs\\python\\python39\\lib\\site-packages\\pandas\\io\\formats\\excel.py\u001b[0m in \u001b[0;36mwrite\u001b[1;34m(self, writer, sheet_name, startrow, startcol, freeze_panes, engine, storage_options)\u001b[0m\n\u001b[0;32m    832\u001b[0m             \u001b[1;31m# error: Cannot instantiate abstract class 'ExcelWriter' with abstract\u001b[0m\u001b[1;33m\u001b[0m\u001b[1;33m\u001b[0m\u001b[1;33m\u001b[0m\u001b[0m\n\u001b[0;32m    833\u001b[0m             \u001b[1;31m# attributes 'engine', 'save', 'supported_extensions' and 'write_cells'\u001b[0m\u001b[1;33m\u001b[0m\u001b[1;33m\u001b[0m\u001b[1;33m\u001b[0m\u001b[0m\n\u001b[1;32m--> 834\u001b[1;33m             writer = ExcelWriter(  # type: ignore[abstract]\n\u001b[0m\u001b[0;32m    835\u001b[0m                 \u001b[0mwriter\u001b[0m\u001b[1;33m,\u001b[0m \u001b[0mengine\u001b[0m\u001b[1;33m=\u001b[0m\u001b[0mengine\u001b[0m\u001b[1;33m,\u001b[0m \u001b[0mstorage_options\u001b[0m\u001b[1;33m=\u001b[0m\u001b[0mstorage_options\u001b[0m\u001b[1;33m\u001b[0m\u001b[1;33m\u001b[0m\u001b[0m\n\u001b[0;32m    836\u001b[0m             )\n",
      "\u001b[1;32mc:\\users\\asus\\appdata\\local\\programs\\python\\python39\\lib\\site-packages\\pandas\\io\\excel\\_openpyxl.py\u001b[0m in \u001b[0;36m__init__\u001b[1;34m(self, path, engine, date_format, datetime_format, mode, storage_options, if_sheet_exists, engine_kwargs, **kwargs)\u001b[0m\n\u001b[0;32m     46\u001b[0m     ):\n\u001b[0;32m     47\u001b[0m         \u001b[1;31m# Use the openpyxl module as the Excel writer.\u001b[0m\u001b[1;33m\u001b[0m\u001b[1;33m\u001b[0m\u001b[1;33m\u001b[0m\u001b[0m\n\u001b[1;32m---> 48\u001b[1;33m         \u001b[1;32mfrom\u001b[0m \u001b[0mopenpyxl\u001b[0m\u001b[1;33m.\u001b[0m\u001b[0mworkbook\u001b[0m \u001b[1;32mimport\u001b[0m \u001b[0mWorkbook\u001b[0m\u001b[1;33m\u001b[0m\u001b[1;33m\u001b[0m\u001b[0m\n\u001b[0m\u001b[0;32m     49\u001b[0m \u001b[1;33m\u001b[0m\u001b[0m\n\u001b[0;32m     50\u001b[0m         \u001b[0mengine_kwargs\u001b[0m \u001b[1;33m=\u001b[0m \u001b[0mcombine_kwargs\u001b[0m\u001b[1;33m(\u001b[0m\u001b[0mengine_kwargs\u001b[0m\u001b[1;33m,\u001b[0m \u001b[0mkwargs\u001b[0m\u001b[1;33m)\u001b[0m\u001b[1;33m\u001b[0m\u001b[1;33m\u001b[0m\u001b[0m\n",
      "\u001b[1;31mModuleNotFoundError\u001b[0m: No module named 'openpyxl'"
     ]
    }
   ],
   "source": [
    "import pandas as pd\n",
    "\n",
    "dict1 =  cards_encoded\n",
    "\n",
    "df = pd.DataFrame(data=dict1, index=[0])\n",
    "\n",
    "df = (df.T)\n",
    "\n",
    "print (df)\n",
    "\n",
    "# df.to_excel('EncodedRanks.xlsx')"
   ]
  },
  {
   "cell_type": "code",
   "execution_count": 9,
   "id": "c1ab12bc",
   "metadata": {},
   "outputs": [],
   "source": [
    "import csv\n",
    "\n",
    "with open('output.csv', 'w') as output:\n",
    "    writer = csv.writer(output)\n",
    "    for key, value in dict1.items():\n",
    "        writer.writerow([key,value])"
   ]
  },
  {
   "cell_type": "code",
   "execution_count": null,
   "id": "799365c2",
   "metadata": {},
   "outputs": [],
   "source": []
  }
 ],
 "metadata": {
  "kernelspec": {
   "display_name": "Python 3 (ipykernel)",
   "language": "python",
   "name": "python3"
  },
  "language_info": {
   "codemirror_mode": {
    "name": "ipython",
    "version": 3
   },
   "file_extension": ".py",
   "mimetype": "text/x-python",
   "name": "python",
   "nbconvert_exporter": "python",
   "pygments_lexer": "ipython3",
   "version": "3.9.6"
  }
 },
 "nbformat": 4,
 "nbformat_minor": 5
}
